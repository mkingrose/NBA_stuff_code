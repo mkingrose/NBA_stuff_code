{
 "cells": [
  {
   "cell_type": "code",
   "execution_count": 83,
   "metadata": {},
   "outputs": [],
   "source": [
    "%matplotlib inline\n",
    "import matplotlib.pyplot as plt\n",
    "import numpy as np\n",
    "import pandas as pd\n",
    "from sklearn.model_selection import train_test_split\n",
    "from sklearn.linear_model import LinearRegression\n",
    "from sklearn import metrics\n",
    "import seaborn as sns\n",
    "import pickle\n",
    "from math import sqrt\n",
    "from sklearn import metrics\n"
   ]
  },
  {
   "cell_type": "code",
   "execution_count": 4,
   "metadata": {},
   "outputs": [
    {
     "data": {
      "text/html": [
       "<div>\n",
       "<style scoped>\n",
       "    .dataframe tbody tr th:only-of-type {\n",
       "        vertical-align: middle;\n",
       "    }\n",
       "\n",
       "    .dataframe tbody tr th {\n",
       "        vertical-align: top;\n",
       "    }\n",
       "\n",
       "    .dataframe thead th {\n",
       "        text-align: right;\n",
       "    }\n",
       "</style>\n",
       "<table border=\"1\" class=\"dataframe\">\n",
       "  <thead>\n",
       "    <tr style=\"text-align: right;\">\n",
       "      <th></th>\n",
       "      <th>Player</th>\n",
       "      <th>tm</th>\n",
       "      <th>pos</th>\n",
       "      <th>yr2019_20</th>\n",
       "      <th>avg_cost_per_pt</th>\n",
       "      <th>Age</th>\n",
       "      <th>PER</th>\n",
       "      <th>pts</th>\n",
       "      <th>g</th>\n",
       "      <th>mp</th>\n",
       "      <th>ast</th>\n",
       "      <th>stl</th>\n",
       "      <th>blk</th>\n",
       "    </tr>\n",
       "  </thead>\n",
       "  <tbody>\n",
       "    <tr>\n",
       "      <th>214</th>\n",
       "      <td>De'Andre Hunter</td>\n",
       "      <td>ATL</td>\n",
       "      <td>SF</td>\n",
       "      <td>7068360.0</td>\n",
       "      <td>9085.30</td>\n",
       "      <td>22.0</td>\n",
       "      <td>8.6</td>\n",
       "      <td>778.0</td>\n",
       "      <td>63.0</td>\n",
       "      <td>2018.0</td>\n",
       "      <td>112.0</td>\n",
       "      <td>44.0</td>\n",
       "      <td>18.0</td>\n",
       "    </tr>\n",
       "    <tr>\n",
       "      <th>289</th>\n",
       "      <td>Jakob Poeltl</td>\n",
       "      <td>SAS</td>\n",
       "      <td>C</td>\n",
       "      <td>3754886.0</td>\n",
       "      <td>10093.78</td>\n",
       "      <td>24.0</td>\n",
       "      <td>19.1</td>\n",
       "      <td>372.0</td>\n",
       "      <td>66.0</td>\n",
       "      <td>1171.0</td>\n",
       "      <td>116.0</td>\n",
       "      <td>37.0</td>\n",
       "      <td>95.0</td>\n",
       "    </tr>\n",
       "    <tr>\n",
       "      <th>161</th>\n",
       "      <td>Jeremy Lamb</td>\n",
       "      <td>IND</td>\n",
       "      <td>SG</td>\n",
       "      <td>10500000.0</td>\n",
       "      <td>18197.57</td>\n",
       "      <td>27.0</td>\n",
       "      <td>14.0</td>\n",
       "      <td>577.0</td>\n",
       "      <td>46.0</td>\n",
       "      <td>1291.0</td>\n",
       "      <td>96.0</td>\n",
       "      <td>55.0</td>\n",
       "      <td>22.0</td>\n",
       "    </tr>\n",
       "    <tr>\n",
       "      <th>216</th>\n",
       "      <td>Dāvis Bertāns</td>\n",
       "      <td>WAS</td>\n",
       "      <td>PF</td>\n",
       "      <td>7000000.0</td>\n",
       "      <td>8393.29</td>\n",
       "      <td>27.0</td>\n",
       "      <td>15.5</td>\n",
       "      <td>834.0</td>\n",
       "      <td>54.0</td>\n",
       "      <td>1583.0</td>\n",
       "      <td>92.0</td>\n",
       "      <td>37.0</td>\n",
       "      <td>33.0</td>\n",
       "    </tr>\n",
       "    <tr>\n",
       "      <th>133</th>\n",
       "      <td>Larry Nance</td>\n",
       "      <td>0</td>\n",
       "      <td>0</td>\n",
       "      <td>12727273.0</td>\n",
       "      <td>0.00</td>\n",
       "      <td>0.0</td>\n",
       "      <td>0.0</td>\n",
       "      <td>0.0</td>\n",
       "      <td>0.0</td>\n",
       "      <td>0.0</td>\n",
       "      <td>0.0</td>\n",
       "      <td>0.0</td>\n",
       "      <td>0.0</td>\n",
       "    </tr>\n",
       "  </tbody>\n",
       "</table>\n",
       "</div>"
      ],
      "text/plain": [
       "              Player   tm pos   yr2019_20  avg_cost_per_pt   Age   PER    pts  \\\n",
       "214  De'Andre Hunter  ATL  SF   7068360.0          9085.30  22.0   8.6  778.0   \n",
       "289     Jakob Poeltl  SAS   C   3754886.0         10093.78  24.0  19.1  372.0   \n",
       "161      Jeremy Lamb  IND  SG  10500000.0         18197.57  27.0  14.0  577.0   \n",
       "216    Dāvis Bertāns  WAS  PF   7000000.0          8393.29  27.0  15.5  834.0   \n",
       "133      Larry Nance    0   0  12727273.0             0.00   0.0   0.0    0.0   \n",
       "\n",
       "        g      mp    ast   stl   blk  \n",
       "214  63.0  2018.0  112.0  44.0  18.0  \n",
       "289  66.0  1171.0  116.0  37.0  95.0  \n",
       "161  46.0  1291.0   96.0  55.0  22.0  \n",
       "216  54.0  1583.0   92.0  37.0  33.0  \n",
       "133   0.0     0.0    0.0   0.0   0.0  "
      ]
     },
     "execution_count": 4,
     "metadata": {},
     "output_type": "execute_result"
    }
   ],
   "source": [
    "nba = pd.read_csv(\"final_table.csv\", index_col=0)\n",
    "nba.fillna(0, inplace=True)\n",
    "nba.sample(5)"
   ]
  },
  {
   "cell_type": "code",
   "execution_count": 6,
   "metadata": {},
   "outputs": [
    {
     "name": "stdout",
     "output_type": "stream",
     "text": [
      "              Player   tm pos  yr2019_20  avg_cost_per_pt   Age   PER     pts  \\\n",
      "612    Luguentz Dort  OKC  SG   155647.0           637.90  20.0   7.6   244.0   \n",
      "587        Ky Bowman  GSW  PG   350189.0          1045.34  22.0   9.1   335.0   \n",
      "545    Eric Paschall  GSW  PF   898310.0          1073.25  23.0  14.5   837.0   \n",
      "606        PJ Dozier  DEN  PG   183115.0          1089.97  23.0  11.6   168.0   \n",
      "530  Devonte' Graham  CHO  PG  1416852.0          1237.43  24.0  15.8  1145.0   \n",
      "\n",
      "        g      mp    ast   stl   blk  \n",
      "612  36.0   820.0   27.0  31.0   4.0  \n",
      "587  45.0  1015.0  131.0  44.0  10.0  \n",
      "545  60.0  1654.0  127.0  32.0  13.0  \n",
      "606  29.0   412.0   63.0  14.0   6.0  \n",
      "530  63.0  2211.0  471.0  62.0  15.0  \n"
     ]
    }
   ],
   "source": [
    "index_names = nba[ nba['g'] == 0.0 ].index\n",
    "  \n",
    "# drop these row indexes \n",
    "# from dataFrame \n",
    "nba.drop(index_names, inplace = True) \n",
    "print(nba.head(5))"
   ]
  },
  {
   "cell_type": "code",
   "execution_count": 106,
   "metadata": {},
   "outputs": [
    {
     "data": {
      "text/html": [
       "<div>\n",
       "<style scoped>\n",
       "    .dataframe tbody tr th:only-of-type {\n",
       "        vertical-align: middle;\n",
       "    }\n",
       "\n",
       "    .dataframe tbody tr th {\n",
       "        vertical-align: top;\n",
       "    }\n",
       "\n",
       "    .dataframe thead th {\n",
       "        text-align: right;\n",
       "    }\n",
       "</style>\n",
       "<table border=\"1\" class=\"dataframe\">\n",
       "  <thead>\n",
       "    <tr style=\"text-align: right;\">\n",
       "      <th></th>\n",
       "      <th>Age</th>\n",
       "      <th>pts</th>\n",
       "      <th>stl</th>\n",
       "      <th>ast</th>\n",
       "      <th>blk</th>\n",
       "      <th>PER</th>\n",
       "    </tr>\n",
       "  </thead>\n",
       "  <tbody>\n",
       "    <tr>\n",
       "      <th>134</th>\n",
       "      <td>25.0</td>\n",
       "      <td>776.0</td>\n",
       "      <td>101.0</td>\n",
       "      <td>291.0</td>\n",
       "      <td>29.0</td>\n",
       "      <td>13.8</td>\n",
       "    </tr>\n",
       "    <tr>\n",
       "      <th>406</th>\n",
       "      <td>22.0</td>\n",
       "      <td>60.0</td>\n",
       "      <td>2.0</td>\n",
       "      <td>29.0</td>\n",
       "      <td>5.0</td>\n",
       "      <td>-0.1</td>\n",
       "    </tr>\n",
       "    <tr>\n",
       "      <th>135</th>\n",
       "      <td>28.0</td>\n",
       "      <td>1016.0</td>\n",
       "      <td>77.0</td>\n",
       "      <td>82.0</td>\n",
       "      <td>24.0</td>\n",
       "      <td>14.0</td>\n",
       "    </tr>\n",
       "    <tr>\n",
       "      <th>308</th>\n",
       "      <td>22.0</td>\n",
       "      <td>1146.0</td>\n",
       "      <td>82.0</td>\n",
       "      <td>368.0</td>\n",
       "      <td>93.0</td>\n",
       "      <td>20.3</td>\n",
       "    </tr>\n",
       "    <tr>\n",
       "      <th>366</th>\n",
       "      <td>21.0</td>\n",
       "      <td>220.0</td>\n",
       "      <td>27.0</td>\n",
       "      <td>51.0</td>\n",
       "      <td>17.0</td>\n",
       "      <td>3.7</td>\n",
       "    </tr>\n",
       "  </tbody>\n",
       "</table>\n",
       "</div>"
      ],
      "text/plain": [
       "      Age     pts    stl    ast   blk   PER\n",
       "134  25.0   776.0  101.0  291.0  29.0  13.8\n",
       "406  22.0    60.0    2.0   29.0   5.0  -0.1\n",
       "135  28.0  1016.0   77.0   82.0  24.0  14.0\n",
       "308  22.0  1146.0   82.0  368.0  93.0  20.3\n",
       "366  21.0   220.0   27.0   51.0  17.0   3.7"
      ]
     },
     "execution_count": 106,
     "metadata": {},
     "output_type": "execute_result"
    }
   ],
   "source": [
    "nba_predict = nba[[\"Age\",\"pts\",\"stl\",\"ast\", \"blk\",\"PER\"]]\n",
    "nba_predict.sample(5)"
   ]
  },
  {
   "cell_type": "code",
   "execution_count": 107,
   "metadata": {},
   "outputs": [],
   "source": [
    "# standardize variables\n",
    "from sklearn.preprocessing import StandardScaler\n",
    "std_scaler =StandardScaler()"
   ]
  },
  {
   "cell_type": "code",
   "execution_count": 108,
   "metadata": {},
   "outputs": [
    {
     "data": {
      "text/plain": [
       "StandardScaler()"
      ]
     },
     "execution_count": 108,
     "metadata": {},
     "output_type": "execute_result"
    }
   ],
   "source": [
    "#std_scaler.fit(nba_predict)\n",
    "std_scaler.fit(nba_predict)"
   ]
  },
  {
   "cell_type": "code",
   "execution_count": 109,
   "metadata": {},
   "outputs": [
    {
     "data": {
      "text/plain": [
       "array([[-1.41467769, -0.49278527,  0.01212624, -0.63605272, -0.63472827,\n",
       "        -0.98171858],\n",
       "       [-0.93849029, -0.2826957 ,  0.50197771,  0.25202715, -0.39158498,\n",
       "        -0.72804311],\n",
       "       [-0.70039659,  0.87625993,  0.04980713,  0.21787024, -0.27001334,\n",
       "         0.18518857],\n",
       "       ...,\n",
       "       [-1.17658399, -1.05610234, -1.15598109, -0.86661192, -0.7968238 ,\n",
       "        -3.56920834],\n",
       "       [-1.17658399, -1.05610234, -1.11830021, -0.86661192, -0.7968238 ,\n",
       "         1.08150855],\n",
       "       [ 0.01388451, -1.05610234, -1.15598109, -0.85807269, -0.7968238 ,\n",
       "        -4.41479324]])"
      ]
     },
     "execution_count": 109,
     "metadata": {},
     "output_type": "execute_result"
    }
   ],
   "source": [
    "scaled_nba =std_scaler.transform(nba_predict)\n",
    "scaled_nba"
   ]
  },
  {
   "cell_type": "code",
   "execution_count": 110,
   "metadata": {},
   "outputs": [
    {
     "data": {
      "text/html": [
       "<div>\n",
       "<style scoped>\n",
       "    .dataframe tbody tr th:only-of-type {\n",
       "        vertical-align: middle;\n",
       "    }\n",
       "\n",
       "    .dataframe tbody tr th {\n",
       "        vertical-align: top;\n",
       "    }\n",
       "\n",
       "    .dataframe thead th {\n",
       "        text-align: right;\n",
       "    }\n",
       "</style>\n",
       "<table border=\"1\" class=\"dataframe\">\n",
       "  <thead>\n",
       "    <tr style=\"text-align: right;\">\n",
       "      <th></th>\n",
       "      <th>Age</th>\n",
       "      <th>pts</th>\n",
       "      <th>stl</th>\n",
       "      <th>ast</th>\n",
       "      <th>blk</th>\n",
       "      <th>PER</th>\n",
       "    </tr>\n",
       "  </thead>\n",
       "  <tbody>\n",
       "    <tr>\n",
       "      <th>0</th>\n",
       "      <td>-1.414678</td>\n",
       "      <td>-0.492785</td>\n",
       "      <td>0.012126</td>\n",
       "      <td>-0.636053</td>\n",
       "      <td>-0.634728</td>\n",
       "      <td>-0.981719</td>\n",
       "    </tr>\n",
       "    <tr>\n",
       "      <th>1</th>\n",
       "      <td>-0.938490</td>\n",
       "      <td>-0.282696</td>\n",
       "      <td>0.501978</td>\n",
       "      <td>0.252027</td>\n",
       "      <td>-0.391585</td>\n",
       "      <td>-0.728043</td>\n",
       "    </tr>\n",
       "    <tr>\n",
       "      <th>2</th>\n",
       "      <td>-0.700397</td>\n",
       "      <td>0.876260</td>\n",
       "      <td>0.049807</td>\n",
       "      <td>0.217870</td>\n",
       "      <td>-0.270013</td>\n",
       "      <td>0.185189</td>\n",
       "    </tr>\n",
       "    <tr>\n",
       "      <th>3</th>\n",
       "      <td>-0.700397</td>\n",
       "      <td>-0.668245</td>\n",
       "      <td>-0.628449</td>\n",
       "      <td>-0.328640</td>\n",
       "      <td>-0.553681</td>\n",
       "      <td>-0.305251</td>\n",
       "    </tr>\n",
       "    <tr>\n",
       "      <th>4</th>\n",
       "      <td>-0.462303</td>\n",
       "      <td>1.587332</td>\n",
       "      <td>1.180234</td>\n",
       "      <td>3.155365</td>\n",
       "      <td>-0.188966</td>\n",
       "      <td>0.405041</td>\n",
       "    </tr>\n",
       "  </tbody>\n",
       "</table>\n",
       "</div>"
      ],
      "text/plain": [
       "        Age       pts       stl       ast       blk       PER\n",
       "0 -1.414678 -0.492785  0.012126 -0.636053 -0.634728 -0.981719\n",
       "1 -0.938490 -0.282696  0.501978  0.252027 -0.391585 -0.728043\n",
       "2 -0.700397  0.876260  0.049807  0.217870 -0.270013  0.185189\n",
       "3 -0.700397 -0.668245 -0.628449 -0.328640 -0.553681 -0.305251\n",
       "4 -0.462303  1.587332  1.180234  3.155365 -0.188966  0.405041"
      ]
     },
     "execution_count": 110,
     "metadata": {},
     "output_type": "execute_result"
    }
   ],
   "source": [
    "scaled_df=pd.DataFrame(scaled_nba, columns = nba_predict.columns)\n",
    "scaled_df.head()"
   ]
  },
  {
   "cell_type": "code",
   "execution_count": 111,
   "metadata": {},
   "outputs": [
    {
     "data": {
      "text/plain": [
       "Age    1.001082\n",
       "pts    1.001082\n",
       "stl    1.001082\n",
       "ast    1.001082\n",
       "blk    1.001082\n",
       "PER    1.001082\n",
       "dtype: float64"
      ]
     },
     "execution_count": 111,
     "metadata": {},
     "output_type": "execute_result"
    }
   ],
   "source": [
    "scaled_df.std()"
   ]
  },
  {
   "cell_type": "code",
   "execution_count": 112,
   "metadata": {},
   "outputs": [
    {
     "data": {
      "text/plain": [
       "<bound method NDFrame.head of 612     155647.0\n",
       "587     350189.0\n",
       "545     898310.0\n",
       "606     183115.0\n",
       "530    1416852.0\n",
       "         ...    \n",
       "596     250000.0\n",
       "628      81678.0\n",
       "496    1500000.0\n",
       "634      50752.0\n",
       "639      50000.0\n",
       "Name: yr2019_20, Length: 463, dtype: float64>"
      ]
     },
     "execution_count": 112,
     "metadata": {},
     "output_type": "execute_result"
    }
   ],
   "source": [
    "# target variable\n",
    "y = nba['yr2019_20']\n",
    "y.head"
   ]
  },
  {
   "cell_type": "code",
   "execution_count": 113,
   "metadata": {},
   "outputs": [
    {
     "data": {
      "text/html": [
       "<div>\n",
       "<style scoped>\n",
       "    .dataframe tbody tr th:only-of-type {\n",
       "        vertical-align: middle;\n",
       "    }\n",
       "\n",
       "    .dataframe tbody tr th {\n",
       "        vertical-align: top;\n",
       "    }\n",
       "\n",
       "    .dataframe thead th {\n",
       "        text-align: right;\n",
       "    }\n",
       "</style>\n",
       "<table border=\"1\" class=\"dataframe\">\n",
       "  <thead>\n",
       "    <tr style=\"text-align: right;\">\n",
       "      <th></th>\n",
       "      <th>Age</th>\n",
       "      <th>pts</th>\n",
       "      <th>stl</th>\n",
       "      <th>ast</th>\n",
       "      <th>blk</th>\n",
       "      <th>PER</th>\n",
       "    </tr>\n",
       "  </thead>\n",
       "  <tbody>\n",
       "    <tr>\n",
       "      <th>200</th>\n",
       "      <td>-1.176584</td>\n",
       "      <td>-0.548194</td>\n",
       "      <td>-0.138597</td>\n",
       "      <td>-0.431111</td>\n",
       "      <td>-0.107918</td>\n",
       "      <td>-1.641275</td>\n",
       "    </tr>\n",
       "    <tr>\n",
       "      <th>14</th>\n",
       "      <td>-0.462303</td>\n",
       "      <td>0.813926</td>\n",
       "      <td>0.125169</td>\n",
       "      <td>-0.354258</td>\n",
       "      <td>1.391466</td>\n",
       "      <td>1.656506</td>\n",
       "    </tr>\n",
       "    <tr>\n",
       "      <th>23</th>\n",
       "      <td>-0.462303</td>\n",
       "      <td>-0.580515</td>\n",
       "      <td>-0.703811</td>\n",
       "      <td>-0.431111</td>\n",
       "      <td>-0.634728</td>\n",
       "      <td>-0.305251</td>\n",
       "    </tr>\n",
       "    <tr>\n",
       "      <th>348</th>\n",
       "      <td>-0.224209</td>\n",
       "      <td>0.197509</td>\n",
       "      <td>0.087488</td>\n",
       "      <td>-0.456729</td>\n",
       "      <td>2.120896</td>\n",
       "      <td>1.216802</td>\n",
       "    </tr>\n",
       "    <tr>\n",
       "      <th>397</th>\n",
       "      <td>0.966259</td>\n",
       "      <td>-0.462772</td>\n",
       "      <td>-0.063236</td>\n",
       "      <td>-0.593357</td>\n",
       "      <td>-0.432109</td>\n",
       "      <td>-0.136134</td>\n",
       "    </tr>\n",
       "    <tr>\n",
       "      <th>32</th>\n",
       "      <td>-0.938490</td>\n",
       "      <td>1.589641</td>\n",
       "      <td>1.933851</td>\n",
       "      <td>2.275825</td>\n",
       "      <td>2.971897</td>\n",
       "      <td>1.166067</td>\n",
       "    </tr>\n",
       "    <tr>\n",
       "      <th>370</th>\n",
       "      <td>-0.700397</td>\n",
       "      <td>-0.977607</td>\n",
       "      <td>-1.042938</td>\n",
       "      <td>-0.806837</td>\n",
       "      <td>-0.715776</td>\n",
       "      <td>-0.017752</td>\n",
       "    </tr>\n",
       "    <tr>\n",
       "      <th>325</th>\n",
       "      <td>0.490072</td>\n",
       "      <td>-0.624380</td>\n",
       "      <td>-0.176278</td>\n",
       "      <td>-0.559200</td>\n",
       "      <td>-0.472633</td>\n",
       "      <td>-1.133924</td>\n",
       "    </tr>\n",
       "    <tr>\n",
       "      <th>232</th>\n",
       "      <td>-1.652771</td>\n",
       "      <td>-0.495094</td>\n",
       "      <td>-0.402363</td>\n",
       "      <td>-0.704367</td>\n",
       "      <td>-0.472633</td>\n",
       "      <td>-1.218482</td>\n",
       "    </tr>\n",
       "    <tr>\n",
       "      <th>288</th>\n",
       "      <td>1.204353</td>\n",
       "      <td>0.465316</td>\n",
       "      <td>2.310660</td>\n",
       "      <td>0.132478</td>\n",
       "      <td>0.135225</td>\n",
       "      <td>-0.017752</td>\n",
       "    </tr>\n",
       "  </tbody>\n",
       "</table>\n",
       "</div>"
      ],
      "text/plain": [
       "          Age       pts       stl       ast       blk       PER\n",
       "200 -1.176584 -0.548194 -0.138597 -0.431111 -0.107918 -1.641275\n",
       "14  -0.462303  0.813926  0.125169 -0.354258  1.391466  1.656506\n",
       "23  -0.462303 -0.580515 -0.703811 -0.431111 -0.634728 -0.305251\n",
       "348 -0.224209  0.197509  0.087488 -0.456729  2.120896  1.216802\n",
       "397  0.966259 -0.462772 -0.063236 -0.593357 -0.432109 -0.136134\n",
       "32  -0.938490  1.589641  1.933851  2.275825  2.971897  1.166067\n",
       "370 -0.700397 -0.977607 -1.042938 -0.806837 -0.715776 -0.017752\n",
       "325  0.490072 -0.624380 -0.176278 -0.559200 -0.472633 -1.133924\n",
       "232 -1.652771 -0.495094 -0.402363 -0.704367 -0.472633 -1.218482\n",
       "288  1.204353  0.465316  2.310660  0.132478  0.135225 -0.017752"
      ]
     },
     "execution_count": 113,
     "metadata": {},
     "output_type": "execute_result"
    }
   ],
   "source": [
    "X =nba.drop('yr2019_20', axis=1)\n",
    "X = scaled_df.copy()\n",
    "X.shape\n",
    "X.sample(10)"
   ]
  },
  {
   "cell_type": "code",
   "execution_count": 114,
   "metadata": {},
   "outputs": [],
   "source": [
    "X_train, X_test, y_train, y_test = train_test_split(X,y, test_size=.15, random_state=42)"
   ]
  },
  {
   "cell_type": "code",
   "execution_count": 115,
   "metadata": {},
   "outputs": [
    {
     "data": {
      "text/plain": [
       "LinearRegression()"
      ]
     },
     "execution_count": 115,
     "metadata": {},
     "output_type": "execute_result"
    }
   ],
   "source": [
    "\n",
    "# instantiate\n",
    "my_sal= LinearRegression()\n",
    "#linreg=LinearRegression()\n",
    "my_sal.fit(X,y)"
   ]
  },
  {
   "cell_type": "code",
   "execution_count": 116,
   "metadata": {},
   "outputs": [],
   "source": [
    "#fit model  to training dataset\n",
    "my_sal.fit(X_train, y_train)  # normalize = False, data is expected to be already centered\n",
    "y_pred = my_sal.predict(X_test)"
   ]
  },
  {
   "cell_type": "code",
   "execution_count": 117,
   "metadata": {},
   "outputs": [
    {
     "data": {
      "text/plain": [
       "array([ 8.06432657e+06,  1.04229093e+07,  5.33964835e+06,  3.54373026e+06,\n",
       "        2.28227208e+06,  3.08093854e+06,  1.83039074e+07,  1.45868813e+07,\n",
       "       -8.22975757e+05,  5.67401301e+06,  6.12135781e+06,  1.08354898e+07,\n",
       "        1.11224664e+07,  7.26273512e+05,  2.19453572e+06,  1.29399656e+07,\n",
       "        4.08961319e+06,  4.63329599e+06,  5.53721982e+06, -6.52243497e+05,\n",
       "        6.89238632e+06,  3.75925498e+06,  1.03951633e+07,  1.01582363e+06,\n",
       "        8.90060028e+06,  7.76937991e+06,  8.56556910e+06,  7.50713297e+05,\n",
       "        2.72854059e+06,  1.03750170e+07,  7.48999891e+06,  9.42909110e+06,\n",
       "        8.55224128e+06,  3.81684515e+05,  1.65228242e+07, -3.29981224e+06,\n",
       "        5.19069846e+06,  1.10270473e+07,  6.48708332e+06,  5.17060001e+06,\n",
       "        4.72251113e+06,  1.60181265e+06,  1.23359398e+07,  7.97599437e+03,\n",
       "        3.09671849e+06,  9.37223623e+05,  1.51165742e+07,  7.87024823e+06,\n",
       "        1.41297817e+07,  1.15776134e+07, -8.43021847e+05,  3.21490740e+06,\n",
       "        5.26233537e+06,  8.46179304e+06,  5.31752084e+06,  1.91997158e+06,\n",
       "        8.33850954e+06,  1.03708065e+07, -1.51565042e+06,  8.62961982e+06,\n",
       "        8.95528299e+06,  8.28356457e+06,  5.27189277e+06,  4.05681022e+05,\n",
       "        1.62597613e+07,  8.64941371e+06, -9.10200959e+05,  9.30165166e+06,\n",
       "        1.96091934e+07,  1.83154679e+06])"
      ]
     },
     "execution_count": 117,
     "metadata": {},
     "output_type": "execute_result"
    }
   ],
   "source": [
    "# predict the y_values on testing dataset\n",
    "y_pred = my_sal.predict(X_test)\n",
    "y_pred"
   ]
  },
  {
   "cell_type": "code",
   "execution_count": 118,
   "metadata": {},
   "outputs": [
    {
     "data": {
      "text/plain": [
       "[8064326.57, 10422909.34, 5339648.35, 3543730.26, 2282272.08]"
      ]
     },
     "execution_count": 118,
     "metadata": {},
     "output_type": "execute_result"
    }
   ],
   "source": [
    "#looking at prediction and comparing to true values\n",
    "[round(x,2)for x in y_pred[:5]]"
   ]
  },
  {
   "cell_type": "code",
   "execution_count": 119,
   "metadata": {},
   "outputs": [
    {
     "data": {
      "text/plain": [
       "[7936508.0, 1445697.0, 2281800.0, 3569643.0, 1618520.0]"
      ]
     },
     "execution_count": 119,
     "metadata": {},
     "output_type": "execute_result"
    }
   ],
   "source": [
    "list(y_test[:5])"
   ]
  },
  {
   "cell_type": "code",
   "execution_count": 120,
   "metadata": {},
   "outputs": [
    {
     "name": "stdout",
     "output_type": "stream",
     "text": [
      "on average my model errs by 7042755.908170715\n"
     ]
    }
   ],
   "source": [
    "# root mean Sq error\n",
    "rmse = sqrt(metrics.mean_squared_error(y_test, y_pred))\n",
    "print ('on average my model errs by', rmse)"
   ]
  },
  {
   "cell_type": "code",
   "execution_count": 121,
   "metadata": {},
   "outputs": [
    {
     "data": {
      "text/plain": [
       "7756209.361323155"
      ]
     },
     "execution_count": 121,
     "metadata": {},
     "output_type": "execute_result"
    }
   ],
   "source": [
    "avg_val= y_train.mean()\n",
    "avg_val"
   ]
  },
  {
   "cell_type": "code",
   "execution_count": 122,
   "metadata": {},
   "outputs": [
    {
     "name": "stdout",
     "output_type": "stream",
     "text": [
      "yr2019_20 -1540464\n"
     ]
    }
   ],
   "source": [
    "comparison_array=np.full((len(y_test), ), avg_val)\n",
    "coin_flip = sqrt(metrics.mean_squared_error(y_test, comparison_array))\n",
    "print ('yr2019_20', round(rmse-coin_flip))"
   ]
  },
  {
   "cell_type": "code",
   "execution_count": 123,
   "metadata": {},
   "outputs": [
    {
     "data": {
      "text/plain": [
       "0.2972895047680635"
      ]
     },
     "execution_count": 123,
     "metadata": {},
     "output_type": "execute_result"
    }
   ],
   "source": [
    "r2=metrics.r2_score(y_test, y_pred)\n",
    "r2"
   ]
  },
  {
   "cell_type": "code",
   "execution_count": 124,
   "metadata": {},
   "outputs": [
    {
     "data": {
      "text/plain": [
       "array([7756209.36132316, 7756209.36132316, 7756209.36132316,\n",
       "       7756209.36132316, 7756209.36132316, 7756209.36132316,\n",
       "       7756209.36132316, 7756209.36132316, 7756209.36132316,\n",
       "       7756209.36132316, 7756209.36132316, 7756209.36132316,\n",
       "       7756209.36132316, 7756209.36132316, 7756209.36132316,\n",
       "       7756209.36132316, 7756209.36132316, 7756209.36132316,\n",
       "       7756209.36132316, 7756209.36132316, 7756209.36132316,\n",
       "       7756209.36132316, 7756209.36132316, 7756209.36132316,\n",
       "       7756209.36132316, 7756209.36132316, 7756209.36132316,\n",
       "       7756209.36132316, 7756209.36132316, 7756209.36132316,\n",
       "       7756209.36132316, 7756209.36132316, 7756209.36132316,\n",
       "       7756209.36132316, 7756209.36132316, 7756209.36132316,\n",
       "       7756209.36132316, 7756209.36132316, 7756209.36132316,\n",
       "       7756209.36132316, 7756209.36132316, 7756209.36132316,\n",
       "       7756209.36132316, 7756209.36132316, 7756209.36132316,\n",
       "       7756209.36132316, 7756209.36132316, 7756209.36132316,\n",
       "       7756209.36132316, 7756209.36132316, 7756209.36132316,\n",
       "       7756209.36132316, 7756209.36132316, 7756209.36132316,\n",
       "       7756209.36132316, 7756209.36132316, 7756209.36132316,\n",
       "       7756209.36132316, 7756209.36132316, 7756209.36132316,\n",
       "       7756209.36132316, 7756209.36132316, 7756209.36132316,\n",
       "       7756209.36132316, 7756209.36132316, 7756209.36132316,\n",
       "       7756209.36132316, 7756209.36132316, 7756209.36132316,\n",
       "       7756209.36132316])"
      ]
     },
     "execution_count": 124,
     "metadata": {},
     "output_type": "execute_result"
    }
   ],
   "source": [
    "comparison = np.full(len(y_test), avg_val)\n",
    "comparison"
   ]
  },
  {
   "cell_type": "code",
   "execution_count": 125,
   "metadata": {},
   "outputs": [
    {
     "data": {
      "text/plain": [
       "8583220.398662863"
      ]
     },
     "execution_count": 125,
     "metadata": {},
     "output_type": "execute_result"
    }
   ],
   "source": [
    "sqrt(metrics.mean_squared_error(y_test, comparison))\n"
   ]
  },
  {
   "cell_type": "code",
   "execution_count": 126,
   "metadata": {},
   "outputs": [
    {
     "data": {
      "text/plain": [
       "array([ 8.06432657e+06,  1.04229093e+07,  5.33964835e+06,  3.54373026e+06,\n",
       "        2.28227208e+06,  3.08093854e+06,  1.83039074e+07,  1.45868813e+07,\n",
       "       -8.22975757e+05,  5.67401301e+06,  6.12135781e+06,  1.08354898e+07,\n",
       "        1.11224664e+07,  7.26273512e+05,  2.19453572e+06,  1.29399656e+07,\n",
       "        4.08961319e+06,  4.63329599e+06,  5.53721982e+06, -6.52243497e+05,\n",
       "        6.89238632e+06,  3.75925498e+06,  1.03951633e+07,  1.01582363e+06,\n",
       "        8.90060028e+06,  7.76937991e+06,  8.56556910e+06,  7.50713297e+05,\n",
       "        2.72854059e+06,  1.03750170e+07,  7.48999891e+06,  9.42909110e+06,\n",
       "        8.55224128e+06,  3.81684515e+05,  1.65228242e+07, -3.29981224e+06,\n",
       "        5.19069846e+06,  1.10270473e+07,  6.48708332e+06,  5.17060001e+06,\n",
       "        4.72251113e+06,  1.60181265e+06,  1.23359398e+07,  7.97599437e+03,\n",
       "        3.09671849e+06,  9.37223623e+05,  1.51165742e+07,  7.87024823e+06,\n",
       "        1.41297817e+07,  1.15776134e+07, -8.43021847e+05,  3.21490740e+06,\n",
       "        5.26233537e+06,  8.46179304e+06,  5.31752084e+06,  1.91997158e+06,\n",
       "        8.33850954e+06,  1.03708065e+07, -1.51565042e+06,  8.62961982e+06,\n",
       "        8.95528299e+06,  8.28356457e+06,  5.27189277e+06,  4.05681022e+05,\n",
       "        1.62597613e+07,  8.64941371e+06, -9.10200959e+05,  9.30165166e+06,\n",
       "        1.96091934e+07,  1.83154679e+06])"
      ]
     },
     "execution_count": 126,
     "metadata": {},
     "output_type": "execute_result"
    }
   ],
   "source": [
    "y_pred"
   ]
  },
  {
   "cell_type": "code",
   "execution_count": 127,
   "metadata": {},
   "outputs": [
    {
     "data": {
      "image/png": "[encoded data removed]",
      "text/plain": [
       "<Figure size 864x936 with 1 Axes>"
      ]
     },
     "metadata": {
      "needs_background": "light"
     },
     "output_type": "display_data"
    }
   ],
   "source": [
    "plt.figure(figsize = (12,13))\n",
    "sns.regplot(x=y_pred, y=y_test);"
   ]
  },
  {
   "cell_type": "code",
   "execution_count": null,
   "metadata": {},
   "outputs": [],
   "source": []
  }
 ],
 "metadata": {
  "kernelspec": {
   "display_name": "Python 3",
   "language": "python",
   "name": "python3"
  },
  "language_info": {
   "codemirror_mode": {
    "name": "ipython",
    "version": 3
   },
   "file_extension": ".py",
   "mimetype": "text/x-python",
   "name": "python",
   "nbconvert_exporter": "python",
   "pygments_lexer": "ipython3",
   "version": "3.8.2"
  }
 },
 "nbformat": 4,
 "nbformat_minor": 4
}
